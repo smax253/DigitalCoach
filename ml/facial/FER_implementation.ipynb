{
  "cells": [
    {
      "cell_type": "markdown",
      "metadata": {
        "colab_type": "text",
        "id": "view-in-github"
      },
      "source": [
        "<a href=\"https://colab.research.google.com/github/smax253/DigitalCoach/blob/main/FER_implementation.ipynb\" target=\"_parent\"><img src=\"https://colab.research.google.com/assets/colab-badge.svg\" alt=\"Open In Colab\"/></a>"
      ]
    },
    {
      "cell_type": "code",
      "execution_count": null,
      "metadata": {
        "colab": {
          "base_uri": "https://localhost:8080/"
        },
        "id": "qjzsHsXWs7GK",
        "outputId": "0fa95d5a-e1ff-4357-bcfa-43027f7d26d7"
      },
      "outputs": [],
      "source": [
        "pip install FER"
      ]
    },
    {
      "cell_type": "code",
      "execution_count": null,
      "metadata": {
        "id": "uwnQh-IvtH3i"
      },
      "outputs": [],
      "source": [
        "from fer import Video\n",
        "from fer import FER\n",
        "import os\n",
        "import sys\n",
        "import pandas as pd\n",
        "location_videofile = \"/content/P1.mp4\""
      ]
    },
    {
      "cell_type": "code",
      "execution_count": null,
      "metadata": {
        "id": "FVTCs2kCudNn"
      },
      "outputs": [],
      "source": [
        "face_detector = FER(mtcnn=True)\n",
        "input_video = Video(location_videofile)"
      ]
    },
    {
      "cell_type": "code",
      "execution_count": null,
      "metadata": {
        "colab": {
          "base_uri": "https://localhost:8080/"
        },
        "id": "vDmwfjF2wix1",
        "outputId": "e7ce2ced-878a-4887-c471-db2e522e52e9"
      },
      "outputs": [],
      "source": [
        "processing_data = input_video.analyze(face_detector, display=False)"
      ]
    },
    {
      "cell_type": "code",
      "execution_count": null,
      "metadata": {
        "colab": {
          "base_uri": "https://localhost:8080/",
          "height": 490
        },
        "id": "zX51-490wtDz",
        "outputId": "0c0652df-79c6-4c43-8dbb-6ac0e646b460"
      },
      "outputs": [],
      "source": [
        "vid_df = input_video.to_pandas(processing_data)\n",
        "vid_df = input_video.get_first_face(vid_df)\n",
        "vid_df = input_video.get_emotions(vid_df)\n",
        "pltfig = vid_df.plot(figsize=(20, 8), fontsize=16).get_figure()"
      ]
    },
    {
      "cell_type": "code",
      "execution_count": null,
      "metadata": {
        "colab": {
          "base_uri": "https://localhost:8080/",
          "height": 268
        },
        "id": "S_HmitpKw2aR",
        "outputId": "4c7e8400-0919-43c1-98fc-101bc5c494f9"
      },
      "outputs": [],
      "source": [
        "angry = sum(vid_df.angry)\n",
        "disgust = sum(vid_df.disgust)\n",
        "fear = sum(vid_df.fear)\n",
        "happy = sum(vid_df.happy)\n",
        "sad = sum(vid_df.sad)\n",
        "surprise = sum(vid_df.surprise)\n",
        "neutral = sum(vid_df.neutral)\n",
        "\n",
        "emotions = ['Angry', 'Disgust', 'Fear', 'Happy', 'Sad', 'Surprise', 'Neutral']\n",
        "emotions_values = [angry, disgust, fear, happy, sad, surprise, neutral]\n",
        "\n",
        "score_comparisons = pd.DataFrame(emotions, columns = ['Human Emotions'])\n",
        "score_comparisons['Emotion Value from the Video'] = emotions_values\n",
        "score_comparisons"
      ]
    }
  ],
  "metadata": {
    "colab": {
      "authorship_tag": "ABX9TyOnEct7hpwc9PDYOeAhXxdU",
      "include_colab_link": true,
      "name": "FER_implementation",
      "provenance": []
    },
    "kernelspec": {
      "display_name": "Python 3",
      "name": "python3"
    },
    "language_info": {
      "codemirror_mode": {
        "name": "ipython",
        "version": 3
      },
      "file_extension": ".py",
      "mimetype": "text/x-python",
      "name": "python",
      "nbconvert_exporter": "python",
      "pygments_lexer": "ipython3",
      "version": "3.8.9"
    }
  },
  "nbformat": 4,
  "nbformat_minor": 0
}
