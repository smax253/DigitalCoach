{
 "cells": [
  {
   "cell_type": "code",
   "execution_count": 1,
   "metadata": {},
   "outputs": [
    {
     "name": "stdout",
     "output_type": "stream",
     "text": [
      "Hello, this is the jupyter notebook for evaluating the text model\n",
      "Python version: Python 3.8.3\n"
     ]
    }
   ],
   "source": [
    "print('Hello, this is the jupyter notebook for evaluating the text model')\n",
    "print('Python version: Python 3.8.3')"
   ]
  },
  {
   "cell_type": "code",
   "execution_count": 21,
   "metadata": {},
   "outputs": [
    {
     "name": "stdout",
     "output_type": "stream",
     "text": [
      "whiskers: [array([4.72067728, 3.60831522]), array([5.53944607, 6.58097095])]\n",
      "\n",
      "caps: [array([3.60831522, 3.60831522]), array([6.58097095, 6.58097095])]\n",
      "\n",
      "boxes: [array([4.72067728, 4.72067728, 5.53944607, 5.53944607, 4.72067728])]\n",
      "\n",
      "medians: [array([5.14808936, 5.14808936])]\n",
      "\n",
      "fliers: [array([3.33252172])]\n",
      "\n",
      "means: [array([5.09519119])]\n",
      "\n"
     ]
    },
    {
     "data": {
      "image/png": "[encoded data removed]",
      "text/plain": [
       "<Figure size 720x360 with 1 Axes>"
      ]
     },
     "metadata": {
      "needs_background": "light"
     },
     "output_type": "display_data"
    }
   ],
   "source": [
    "import csv\n",
    "import matplotlib.pyplot as plt\n",
    "\n",
    "turker_csv = {} #in case we need all the data in dict form\n",
    "\n",
    "with open('/Users/HNizami/Desktop/DigitalCoach/ml/dataset/Labels/turker_scores_full_interview.csv', 'r') as csvfile:\n",
    "    reader = csv.reader(csvfile, delimiter=',')\n",
    "    next(reader)\n",
    "    for row in reader:\n",
    "        # {'person_id': [list of all attributes such as overall, recommended hire, excited, etc.]}\n",
    "        turker_csv[row[0]] = row[1:]\n",
    "\n",
    "#plot overall scores in histogram\n",
    "overall_scores = []\n",
    "for k, v in turker_csv.items():\n",
    "    overall_scores.append(float(v[1])) \n",
    "fig = plt.figure(figsize = (10,5))\n",
    "plt.boxplot(overall_scores)\n",
    "plt.title('Overall scores distribution')\n",
    "\n",
    "# find averages from overall scores in histogram\n",
    "bp = plt.boxplot(overall_scores, showmeans=True)\n",
    "for key in bp:\n",
    "    print(f'{key}: {[item.get_ydata() for item in bp[key]]}\\n')\n"
   ]
  },
  {
   "cell_type": "code",
   "execution_count": 28,
   "metadata": {},
   "outputs": [
    {
     "name": "stdout",
     "output_type": "stream",
     "text": [
      "whiskers: [array([4.52817449, 3.18966092]), array([5.44413401, 6.64721816]), array([4.31962781, 2.83746565]), array([5.41304122, 6.52391736]), array([4.62566933, 3.54827007]), array([5.38384608, 6.3982132 ]), array([4.26083774, 3.14449074]), array([5.2102474 , 6.42801315]), array([4.33495827, 2.74396947]), array([5.46102504, 6.4917993 ]), array([5.00281043, 3.6279524 ]), array([6.0316433 , 6.79465234]), array([5.05076497, 4.00232979]), array([5.81801525, 6.65413489]), array([5.38357472, 4.64934112]), array([5.97282864, 6.72840513])]\n",
      "\n",
      "caps: [array([3.18966092, 3.18966092]), array([6.64721816, 6.64721816]), array([2.83746565, 2.83746565]), array([6.52391736, 6.52391736]), array([3.54827007, 3.54827007]), array([6.3982132, 6.3982132]), array([3.14449074, 3.14449074]), array([6.42801315, 6.42801315]), array([2.74396947, 2.74396947]), array([6.4917993, 6.4917993]), array([3.6279524, 3.6279524]), array([6.79465234, 6.79465234]), array([4.00232979, 4.00232979]), array([6.65413489, 6.65413489]), array([4.64934112, 4.64934112]), array([6.72840513, 6.72840513])]\n",
      "\n",
      "boxes: [array([4.52817449, 4.52817449, 5.44413401, 5.44413401, 4.52817449]), array([4.31962781, 4.31962781, 5.41304122, 5.41304122, 4.31962781]), array([4.62566933, 4.62566933, 5.38384608, 5.38384608, 4.62566933]), array([4.26083774, 4.26083774, 5.2102474 , 5.2102474 , 4.26083774]), array([4.33495827, 4.33495827, 5.46102504, 5.46102504, 4.33495827]), array([5.00281043, 5.00281043, 6.0316433 , 6.0316433 , 5.00281043]), array([5.05076497, 5.05076497, 5.81801525, 5.81801525, 5.05076497]), array([5.38357472, 5.38357472, 5.97282864, 5.97282864, 5.38357472])]\n",
      "\n",
      "medians: [array([4.96225172, 4.96225172]), array([4.89873874, 4.89873874]), array([5.04309532, 5.04309532]), array([4.80259295, 4.80259295]), array([4.99982564, 4.99982564]), array([5.45361592, 5.45361592]), array([5.46630639, 5.46630639]), array([5.69768755, 5.69768755])]\n",
      "\n",
      "fliers: [array([], dtype=float64), array([], dtype=float64), array([], dtype=float64), array([2.80873146]), array([2.30430407, 2.57476914, 2.3423489 , 2.28953851]), array([3.39458816, 3.36710043]), array([3.87680098]), array([4.43222509, 4.26071213, 4.44024298, 4.19180615])]\n",
      "\n",
      "means: [array([4.94534262]), array([4.84419619]), array([5.01417414]), array([4.72904367]), array([4.82459213]), array([5.4268968]), array([5.40051201]), array([5.64473135])]\n",
      "\n"
     ]
    },
    {
     "data": {
      "image/png": "[encoded data removed]",
      "text/plain": [
       "<Figure size 432x288 with 1 Axes>"
      ]
     },
     "metadata": {
      "needs_background": "light"
     },
     "output_type": "display_data"
    }
   ],
   "source": [
    "# Do the same for these attributes: recommendhiring, excited, engaged, structuredanswer, \n",
    "# engagingtone, friendly, calm, focused, total\n",
    "# Currently doing those attributes since those are the ones the paper used + a few more\n",
    "\n",
    "#plot recommend hiring in histogram\n",
    "rh = []\n",
    "excited = []\n",
    "engaging = []\n",
    "structured = [] \n",
    "engaging_tone = []\n",
    "friendly = []\n",
    "calm = []\n",
    "focused = []\n",
    "total = []\n",
    "\n",
    "for k, v in turker_csv.items():\n",
    "    rh.append(float(v[2]))\n",
    "    excited.append(float(v[5]))\n",
    "    engaging.append(float(v[3]))\n",
    "    structured.append(float(v[13]))\n",
    "    engaging_tone.append(float(v[12]))\n",
    "    friendly.append(float(v[10]))\n",
    "    calm.append(float(v[14]))\n",
    "    focused.append(float(v[16]))\n",
    "    total.append(float(v[19]))\n",
    "\n",
    "\n",
    "\n",
    "other_scores = [rh, excited, engaging, structured, engaging_tone, friendly, calm, focused]\n",
    "plt.xlabel('Other features')\n",
    "plt.ylabel('Scores')\n",
    "plt.xticks(range(1, len(other_scores)+1), ['RH', 'EXC', 'ENG', 'STRUCT', 'ET', 'FRIE', 'CALM', 'FOC'])\n",
    "plt.boxplot(other_scores)\n",
    "plt.title('Other attribute scores distribution except total')\n",
    "\n",
    "# find averages from overall scores in histogram\n",
    "bp = plt.boxplot(other_scores, showmeans=True)\n",
    "for key in bp:\n",
    "    print(f'{key}: {[item.get_ydata() for item in bp[key]]}\\n')\n"
   ]
  },
  {
   "cell_type": "code",
   "execution_count": 29,
   "metadata": {},
   "outputs": [
    {
     "name": "stdout",
     "output_type": "stream",
     "text": [
      "whiskers: [array([87.79962285, 71.78130855]), array([ 98.56841969, 112.25168807])]\n",
      "\n",
      "caps: [array([71.78130855, 71.78130855]), array([112.25168807, 112.25168807])]\n",
      "\n",
      "boxes: [array([87.79962285, 87.79962285, 98.56841969, 98.56841969, 87.79962285])]\n",
      "\n",
      "medians: [array([92.50081807, 92.50081807])]\n",
      "\n",
      "fliers: [array([71.32366865])]\n",
      "\n",
      "means: [array([92.78431669])]\n",
      "\n"
     ]
    },
    {
     "data": {
      "image/png": "[encoded data removed]",
      "text/plain": [
       "<Figure size 432x288 with 1 Axes>"
      ]
     },
     "metadata": {
      "needs_background": "light"
     },
     "output_type": "display_data"
    }
   ],
   "source": [
    "plt.boxplot(total)\n",
    "plt.title('Total scores distribution')\n",
    "\n",
    "# find averages from overall scores in histogram\n",
    "bp = plt.boxplot(total, showmeans=True)\n",
    "for key in bp:\n",
    "    print(f'{key}: {[item.get_ydata() for item in bp[key]]}\\n')"
   ]
  },
  {
   "cell_type": "code",
   "execution_count": null,
   "metadata": {},
   "outputs": [],
   "source": []
  }
 ],
 "metadata": {
  "interpreter": {
   "hash": "032f94bca91fcd87a50e0d00e0672cff0893baa529617c24e83ff1caf6e9bb99"
  },
  "kernelspec": {
   "display_name": "Python 3.8.3 64-bit ('base': conda)",
   "language": "python",
   "name": "python3"
  },
  "language_info": {
   "codemirror_mode": {
    "name": "ipython",
    "version": 3
   },
   "file_extension": ".py",
   "mimetype": "text/x-python",
   "name": "python",
   "nbconvert_exporter": "python",
   "pygments_lexer": "ipython3",
   "version": "3.8.3"
  },
  "orig_nbformat": 4
 },
 "nbformat": 4,
 "nbformat_minor": 2
}
